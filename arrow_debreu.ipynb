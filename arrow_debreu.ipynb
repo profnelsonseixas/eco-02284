{
  "nbformat": 4,
  "nbformat_minor": 0,
  "metadata": {
    "colab": {
      "provenance": [],
      "authorship_tag": "ABX9TyN3EHhyByefs7KPswzvKkx0",
      "include_colab_link": true
    },
    "kernelspec": {
      "name": "python3",
      "display_name": "Python 3"
    },
    "language_info": {
      "name": "python"
    }
  },
  "cells": [
    {
      "cell_type": "markdown",
      "metadata": {
        "id": "view-in-github",
        "colab_type": "text"
      },
      "source": [
        "<a href=\"https://colab.research.google.com/github/profnelsonseixas/eco-02284/blob/main/arrow_debreu.ipynb\" target=\"_parent\"><img src=\"https://colab.research.google.com/assets/colab-badge.svg\" alt=\"Open In Colab\"/></a>"
      ]
    },
    {
      "cell_type": "markdown",
      "source": [
        "# Determinação do preço do tempo e do risco: modelo de Arrow e Debreu\n",
        "\n",
        "## Referências\n",
        "\n",
        "- [Arrow (1953)](https://pages.stern.nyu.edu/~dbackus/3386/Readings/Arrow%20role%20of%20securities%20RES%2063-4.pdf)\n",
        "- [Arrow e Debreu (1954)](https://web.stanford.edu/class/msande311/arrow-debreu.pdf)"
      ],
      "metadata": {
        "id": "iXnG0sfTHiQt"
      }
    },
    {
      "cell_type": "code",
      "source": [],
      "metadata": {
        "id": "ntPDJhbgHbA2"
      },
      "execution_count": null,
      "outputs": []
    }
  ]
}